{
 "cells": [
  {
   "cell_type": "markdown",
   "metadata": {},
   "source": [
    "# TV Script Generation\n",
    "In this project, you'll generate your own [Simpsons](https://en.wikipedia.org/wiki/The_Simpsons) TV scripts using RNNs.  You'll be using part of the [Simpsons dataset](https://www.kaggle.com/wcukierski/the-simpsons-by-the-data) of scripts from 27 seasons.  The Neural Network you'll build will generate a new TV script for a scene at [Moe's Tavern](https://simpsonswiki.com/wiki/Moe's_Tavern).\n",
    "## Get the Data\n",
    "The data is already provided for you.  You'll be using a subset of the original dataset.  It consists of only the scenes in Moe's Tavern.  This doesn't include other versions of the tavern, like \"Moe's Cavern\", \"Flaming Moe's\", \"Uncle Moe's Family Feed-Bag\", etc.."
   ]
  },
  {
   "cell_type": "code",
   "execution_count": 1,
   "metadata": {
    "collapsed": true
   },
   "outputs": [],
   "source": [
    "\"\"\"\n",
    "DON'T MODIFY ANYTHING IN THIS CELL\n",
    "\"\"\"\n",
    "import helper\n",
    "\n",
    "data_dir = './data/simpsons/moes_tavern_lines.txt'\n",
    "text = helper.load_data(data_dir)\n",
    "# Ignore notice, since we don't use it for analysing the data\n",
    "text = text[81:]"
   ]
  },
  {
   "cell_type": "markdown",
   "metadata": {},
   "source": [
    "## Explore the Data\n",
    "Play around with `view_sentence_range` to view different parts of the data."
   ]
  },
  {
   "cell_type": "code",
   "execution_count": 2,
   "metadata": {},
   "outputs": [
    {
     "name": "stdout",
     "output_type": "stream",
     "text": [
      "Dataset Stats\n",
      "Roughly the number of unique words: 11492\n",
      "Number of scenes: 262\n",
      "Average number of sentences in each scene: 15.248091603053435\n",
      "Number of lines: 4257\n",
      "Average number of words in each line: 11.50434578341555\n",
      "\n",
      "The sentences 50 to 60:\n",
      "Moe_Szyslak: Sorry, Homer.\n",
      "Homer_Simpson: (LOOKING AT WATCH) Ah. Finished with fifteen seconds to spare.\n",
      "Little_Man: (CONCERNED) What's the matter, buddy?\n",
      "Homer_Simpson: The moron next door closed early!\n",
      "Little_Man: (STIFFENING) I happen to be that moron.\n",
      "Homer_Simpson: Oh, me and my trenchant mouth.\n",
      "Homer_Simpson: Please, you've got to open that store.\n",
      "Little_Man: Let me think about it... Eh... No.\n",
      "Homer_Simpson: Okay, okay. But I want you to see a picture of the little girl you're disappointing. (GOES THROUGH HIS WALLET) Well I don't have one.\n",
      "Moe_Szyslak: (TO LITTLE MAN) Come on, Jer. Open up. Be a pal. Remember when I pulled you and your wife out of that burning car?\n"
     ]
    }
   ],
   "source": [
    "view_sentence_range = (50, 60)\n",
    "\n",
    "\"\"\"\n",
    "DON'T MODIFY ANYTHING IN THIS CELL\n",
    "\"\"\"\n",
    "import numpy as np\n",
    "\n",
    "print('Dataset Stats')\n",
    "print('Roughly the number of unique words: {}'.format(len({word: None for word in text.split()})))\n",
    "scenes = text.split('\\n\\n')\n",
    "print('Number of scenes: {}'.format(len(scenes)))\n",
    "sentence_count_scene = [scene.count('\\n') for scene in scenes]\n",
    "print('Average number of sentences in each scene: {}'.format(np.average(sentence_count_scene)))\n",
    "\n",
    "sentences = [sentence for scene in scenes for sentence in scene.split('\\n')]\n",
    "print('Number of lines: {}'.format(len(sentences)))\n",
    "word_count_sentence = [len(sentence.split()) for sentence in sentences]\n",
    "print('Average number of words in each line: {}'.format(np.average(word_count_sentence)))\n",
    "\n",
    "print()\n",
    "print('The sentences {} to {}:'.format(*view_sentence_range))\n",
    "print('\\n'.join(text.split('\\n')[view_sentence_range[0]:view_sentence_range[1]]))"
   ]
  },
  {
   "cell_type": "markdown",
   "metadata": {},
   "source": [
    "## Implement Preprocessing Functions\n",
    "The first thing to do to any dataset is preprocessing.  Implement the following preprocessing functions below:\n",
    "- Lookup Table\n",
    "- Tokenize Punctuation\n",
    "\n",
    "### Lookup Table\n",
    "To create a word embedding, you first need to transform the words to ids.  In this function, create two dictionaries:\n",
    "- Dictionary to go from the words to an id, we'll call `vocab_to_int`\n",
    "- Dictionary to go from the id to word, we'll call `int_to_vocab`\n",
    "\n",
    "Return these dictionaries in the following tuple `(vocab_to_int, int_to_vocab)`"
   ]
  },
  {
   "cell_type": "code",
   "execution_count": 3,
   "metadata": {},
   "outputs": [
    {
     "name": "stdout",
     "output_type": "stream",
     "text": [
      "Tests Passed\n"
     ]
    }
   ],
   "source": [
    "import numpy as np\n",
    "import problem_unittests as tests\n",
    "from collections import Counter\n",
    "\n",
    "def create_lookup_tables(text):\n",
    "    \"\"\"\n",
    "    Create lookup tables for vocabulary\n",
    "    :param text: The text of tv scripts split into words\n",
    "    :return: A tuple of dicts (vocab_to_int, int_to_vocab)\n",
    "    \"\"\"\n",
    "    # create counter\n",
    "    _counter = Counter(text)\n",
    "    # sort in descending\n",
    "    sorted_text = sorted(_counter, key=_counter.get, reverse=True)\n",
    "    int_to_vocab = {idd: word for idd, word in enumerate(sorted_text)}\n",
    "    vocab_to_int = {word: idd for idd, word in enumerate(sorted_text)}\n",
    "    return vocab_to_int, int_to_vocab\n",
    "\n",
    "\n",
    "\"\"\"\n",
    "DON'T MODIFY ANYTHING IN THIS CELL THAT IS BELOW THIS LINE\n",
    "\"\"\"\n",
    "tests.test_create_lookup_tables(create_lookup_tables)"
   ]
  },
  {
   "cell_type": "markdown",
   "metadata": {},
   "source": [
    "### Tokenize Punctuation\n",
    "We'll be splitting the script into a word array using spaces as delimiters.  However, punctuations like periods and exclamation marks make it hard for the neural network to distinguish between the word \"bye\" and \"bye!\".\n",
    "\n",
    "Implement the function `token_lookup` to return a dict that will be used to tokenize symbols like \"!\" into \"||Exclamation_Mark||\".  Create a dictionary for the following symbols where the symbol is the key and value is the token:\n",
    "- Period ( . )\n",
    "- Comma ( , )\n",
    "- Quotation Mark ( \" )\n",
    "- Semicolon ( ; )\n",
    "- Exclamation mark ( ! )\n",
    "- Question mark ( ? )\n",
    "- Left Parentheses ( ( )\n",
    "- Right Parentheses ( ) )\n",
    "- Dash ( -- )\n",
    "- Return ( \\n )\n",
    "\n",
    "This dictionary will be used to token the symbols and add the delimiter (space) around it.  This separates the symbols as it's own word, making it easier for the neural network to predict on the next word. Make sure you don't use a token that could be confused as a word. Instead of using the token \"dash\", try using something like \"||dash||\"."
   ]
  },
  {
   "cell_type": "code",
   "execution_count": 4,
   "metadata": {},
   "outputs": [
    {
     "name": "stdout",
     "output_type": "stream",
     "text": [
      "Tests Passed\n"
     ]
    }
   ],
   "source": [
    "def token_lookup():\n",
    "    \"\"\"\n",
    "    Generate a dict to turn punctuation into a token.\n",
    "    :return: Tokenize dictionary where the key is the punctuation and the value is the token\n",
    "    \"\"\"\n",
    "    _dict = {\n",
    "        '.':'||period||',\n",
    "        ',':'||comma||',\n",
    "        '\"':'||quotation_mark||',\n",
    "        ';':'||semicolon||',\n",
    "        '!':'||exclamation_mark||',\n",
    "        '?':'||question_mark||',\n",
    "        '(':'||left_parentheses||',\n",
    "        ')':'||right_parentheses||',\n",
    "        '--':'||dash||',\n",
    "        '\\n':'||return||'\n",
    "    }\n",
    "    return _dict\n",
    "\n",
    "\"\"\"\n",
    "DON'T MODIFY ANYTHING IN THIS CELL THAT IS BELOW THIS LINE\n",
    "\"\"\"\n",
    "tests.test_tokenize(token_lookup)"
   ]
  },
  {
   "cell_type": "markdown",
   "metadata": {},
   "source": [
    "## Preprocess all the data and save it\n",
    "Running the code cell below will preprocess all the data and save it to file."
   ]
  },
  {
   "cell_type": "code",
   "execution_count": 5,
   "metadata": {
    "collapsed": true
   },
   "outputs": [],
   "source": [
    "\"\"\"\n",
    "DON'T MODIFY ANYTHING IN THIS CELL\n",
    "\"\"\"\n",
    "# Preprocess Training, Validation, and Testing Data\n",
    "helper.preprocess_and_save_data(data_dir, token_lookup, create_lookup_tables)"
   ]
  },
  {
   "cell_type": "markdown",
   "metadata": {},
   "source": [
    "# Check Point\n",
    "This is your first checkpoint. If you ever decide to come back to this notebook or have to restart the notebook, you can start from here. The preprocessed data has been saved to disk."
   ]
  },
  {
   "cell_type": "code",
   "execution_count": 6,
   "metadata": {
    "collapsed": true
   },
   "outputs": [],
   "source": [
    "\"\"\"\n",
    "DON'T MODIFY ANYTHING IN THIS CELL\n",
    "\"\"\"\n",
    "import helper\n",
    "import numpy as np\n",
    "import problem_unittests as tests\n",
    "\n",
    "int_text, vocab_to_int, int_to_vocab, token_dict = helper.load_preprocess()"
   ]
  },
  {
   "cell_type": "markdown",
   "metadata": {},
   "source": [
    "## Build the Neural Network\n",
    "You'll build the components necessary to build a RNN by implementing the following functions below:\n",
    "- get_inputs\n",
    "- get_init_cell\n",
    "- get_embed\n",
    "- build_rnn\n",
    "- build_nn\n",
    "- get_batches\n",
    "\n",
    "### Check the Version of TensorFlow and Access to GPU"
   ]
  },
  {
   "cell_type": "code",
   "execution_count": 24,
   "metadata": {},
   "outputs": [
    {
     "name": "stdout",
     "output_type": "stream",
     "text": [
      "TensorFlow Version: 1.1.0\n"
     ]
    },
    {
     "name": "stderr",
     "output_type": "stream",
     "text": [
      "/home/ahmed/Dropbox/udacity_dlfnp/venv/lib/python3.5/site-packages/ipykernel_launcher.py:14: UserWarning: No GPU found. Please use a GPU to train your neural network.\n",
      "  \n"
     ]
    }
   ],
   "source": [
    "\"\"\"\n",
    "DON'T MODIFY ANYTHING IN THIS CELL\n",
    "\"\"\"\n",
    "from distutils.version import LooseVersion\n",
    "import warnings\n",
    "import tensorflow as tf\n",
    "\n",
    "# Check TensorFlow Version\n",
    "assert LooseVersion(tf.__version__) >= LooseVersion('1.0'), 'Please use TensorFlow version 1.0 or newer'\n",
    "print('TensorFlow Version: {}'.format(tf.__version__))\n",
    "\n",
    "# Check for a GPU\n",
    "if not tf.test.gpu_device_name():\n",
    "    warnings.warn('No GPU found. Please use a GPU to train your neural network.')\n",
    "else:\n",
    "    print('Default GPU Device: {}'.format(tf.test.gpu_device_name()))"
   ]
  },
  {
   "cell_type": "markdown",
   "metadata": {},
   "source": [
    "### Input\n",
    "Implement the `get_inputs()` function to create TF Placeholders for the Neural Network.  It should create the following placeholders:\n",
    "- Input text placeholder named \"input\" using the [TF Placeholder](https://www.tensorflow.org/api_docs/python/tf/placeholder) `name` parameter.\n",
    "- Targets placeholder\n",
    "- Learning Rate placeholder\n",
    "\n",
    "Return the placeholders in the following tuple `(Input, Targets, LearningRate)`"
   ]
  },
  {
   "cell_type": "code",
   "execution_count": 25,
   "metadata": {},
   "outputs": [
    {
     "name": "stdout",
     "output_type": "stream",
     "text": [
      "Tests Passed\n"
     ]
    }
   ],
   "source": [
    "def get_inputs():\n",
    "    \"\"\"\n",
    "    Create TF Placeholders for input, targets, and learning rate.\n",
    "    :return: Tuple (input, targets, learning rate)\n",
    "    \"\"\"\n",
    "    inputs = tf.placeholder(dtype=tf.int32,shape=[None,None],name='input')\n",
    "    targets = tf.placeholder(dtype=tf.int32,shape=[None,None],name='taget')\n",
    "    learning_rate = tf.placeholder(dtype=tf.float32)\n",
    "    return inputs, targets, learning_rate\n",
    "\n",
    "\n",
    "\"\"\"\n",
    "DON'T MODIFY ANYTHING IN THIS CELL THAT IS BELOW THIS LINE\n",
    "\"\"\"\n",
    "tests.test_get_inputs(get_inputs)"
   ]
  },
  {
   "cell_type": "markdown",
   "metadata": {},
   "source": [
    "### Build RNN Cell and Initialize\n",
    "Stack one or more [`BasicLSTMCells`](https://www.tensorflow.org/api_docs/python/tf/contrib/rnn/BasicLSTMCell) in a [`MultiRNNCell`](https://www.tensorflow.org/api_docs/python/tf/contrib/rnn/MultiRNNCell).\n",
    "- The Rnn size should be set using `rnn_size`\n",
    "- Initalize Cell State using the MultiRNNCell's [`zero_state()`](https://www.tensorflow.org/api_docs/python/tf/contrib/rnn/MultiRNNCell#zero_state) function\n",
    "    - Apply the name \"initial_state\" to the initial state using [`tf.identity()`](https://www.tensorflow.org/api_docs/python/tf/identity)\n",
    "\n",
    "Return the cell and initial state in the following tuple `(Cell, InitialState)`"
   ]
  },
  {
   "cell_type": "code",
   "execution_count": 276,
   "metadata": {},
   "outputs": [
    {
     "name": "stdout",
     "output_type": "stream",
     "text": [
      "Tests Passed\n"
     ]
    }
   ],
   "source": [
    "def get_lstm_cell(rnn_size):\n",
    "    lstm_cell = tf.contrib.rnn.BasicLSTMCell(rnn_size)\n",
    "    lstm_cell_dropout = tf.contrib.rnn.DropoutWrapper(lstm_cell,input_keep_prob=0.5) #hardcoded for now\n",
    "    return lstm_cell\n",
    "\n",
    "def get_init_cell(batch_size, rnn_size):\n",
    "    \"\"\"\n",
    "    Create an RNN Cell and initialize it.\n",
    "    :param batch_size: Size of batches\n",
    "    :param rnn_size: Size of RNNs\n",
    "    :return: Tuple (cell, initialize state)\n",
    "    \"\"\"\n",
    "    # wrapper\n",
    "    cell = tf.contrib.rnn.MultiRNNCell([get_lstm_cell(rnn_size) for i in range(2)])\n",
    "    initial_state = tf.identity(input=cell.zero_state(batch_size,tf.float32),name=\"initial_state\")\n",
    "    return cell, initial_state\n",
    "\n",
    "    \n",
    "    \n",
    "\"\"\"\n",
    "DON'T MODIFY ANYTHING IN THIS CELL THAT IS BELOW THIS LINE\n",
    "\"\"\"\n",
    "tests.test_get_init_cell(get_init_cell)"
   ]
  },
  {
   "cell_type": "markdown",
   "metadata": {},
   "source": [
    "### Word Embedding\n",
    "Apply embedding to `input_data` using TensorFlow.  Return the embedded sequence."
   ]
  },
  {
   "cell_type": "code",
   "execution_count": 27,
   "metadata": {},
   "outputs": [
    {
     "name": "stdout",
     "output_type": "stream",
     "text": [
      "Tests Passed\n"
     ]
    }
   ],
   "source": [
    "def get_embed(input_data, vocab_size, embed_dim):\n",
    "    \"\"\"\n",
    "    Create embedding for <input_data>.\n",
    "    :param input_data: TF placeholder for text input.\n",
    "    :param vocab_size: Number of words in vocabulary.\n",
    "    :param embed_dim: Number of embedding dimensions\n",
    "    :return: Embedded input.\n",
    "    \"\"\"\n",
    "    # weight matrix\n",
    "    embedding = tf.Variable(initial_value=tf.random_uniform(shape=[vocab_size,embed_dim],minval=-1,maxval=1))\n",
    "    embed = tf.nn.embedding_lookup(embedding,input_data)\n",
    "    return embed\n",
    "\n",
    "\n",
    "\"\"\"\n",
    "DON'T MODIFY ANYTHING IN THIS CELL THAT IS BELOW THIS LINE\n",
    "\"\"\"\n",
    "tests.test_get_embed(get_embed)"
   ]
  },
  {
   "cell_type": "markdown",
   "metadata": {},
   "source": [
    "### Build RNN\n",
    "You created a RNN Cell in the `get_init_cell()` function.  Time to use the cell to create a RNN.\n",
    "- Build the RNN using the [`tf.nn.dynamic_rnn()`](https://www.tensorflow.org/api_docs/python/tf/nn/dynamic_rnn)\n",
    " - Apply the name \"final_state\" to the final state using [`tf.identity()`](https://www.tensorflow.org/api_docs/python/tf/identity)\n",
    "\n",
    "Return the outputs and final_state state in the following tuple `(Outputs, FinalState)` "
   ]
  },
  {
   "cell_type": "code",
   "execution_count": 28,
   "metadata": {},
   "outputs": [
    {
     "name": "stdout",
     "output_type": "stream",
     "text": [
      "Tests Passed\n"
     ]
    }
   ],
   "source": [
    "def build_rnn(cell, inputs):\n",
    "    \"\"\"\n",
    "    Create a RNN using a RNN Cell\n",
    "    :param cell: RNN Cell\n",
    "    :param inputs: Input text data\n",
    "    :return: Tuple (Outputs, Final State)\n",
    "    \"\"\"\n",
    "    output, state = tf.nn.dynamic_rnn(cell=cell,inputs=inputs,dtype=tf.float32)\n",
    "    final_state = tf.identity(input=state,name='final_state')\n",
    "    return output, final_state\n",
    "\n",
    "\n",
    "\"\"\"\n",
    "DON'T MODIFY ANYTHING IN THIS CELL THAT IS BELOW THIS LINE\n",
    "\"\"\"\n",
    "tests.test_build_rnn(build_rnn)"
   ]
  },
  {
   "cell_type": "markdown",
   "metadata": {},
   "source": [
    "### Build the Neural Network\n",
    "Apply the functions you implemented above to:\n",
    "- Apply embedding to `input_data` using your `get_embed(input_data, vocab_size, embed_dim)` function.\n",
    "- Build RNN using `cell` and your `build_rnn(cell, inputs)` function.\n",
    "- Apply a fully connected layer with a linear activation and `vocab_size` as the number of outputs.\n",
    "\n",
    "Return the logits and final state in the following tuple (Logits, FinalState) "
   ]
  },
  {
   "cell_type": "code",
   "execution_count": 295,
   "metadata": {},
   "outputs": [
    {
     "name": "stdout",
     "output_type": "stream",
     "text": [
      "(128, 5, 300)\n",
      "(128, 5, 256)\n",
      "128 5\n",
      "[128, 5, 27]\n",
      "Tests Passed\n"
     ]
    }
   ],
   "source": [
    "def build_nn(cell, rnn_size, input_data, vocab_size, embed_dim):\n",
    "    \"\"\"\n",
    "    Build part of the neural network\n",
    "    :param cell: RNN cell\n",
    "    :param rnn_size: Size of rnns\n",
    "    :param input_data: Input data\n",
    "    :param vocab_size: Vocabulary size\n",
    "    :param embed_dim: Number of embedding dimensions\n",
    "    :return: Tuple (Logits, FinalState)\n",
    "    \"\"\"\n",
    "    \n",
    "    # get embed layer\n",
    "    embed = get_embed(input_data=input_data, vocab_size=vocab_size, embed_dim=embed_dim) \n",
    "\n",
    "    # output\n",
    "    output, final_state = build_rnn(cell=cell, inputs=embed)\n",
    "\n",
    "    # concat and reshape output\n",
    "    output_reshaped = tf.concat(output,axis=1)\n",
    "    output_reshaped = tf.reshape(output,shape=[-1,rnn_size])\n",
    "    \n",
    "    # build fully connected\n",
    "    fc_w = tf.Variable(initial_value=tf.truncated_normal(shape=[rnn_size,vocab_size]))\n",
    "    fc_b = tf.Variable(initial_value=tf.zeros(shape=[vocab_size]))\n",
    "    fc = tf.nn.bias_add(tf.matmul(output_reshaped,fc_w),fc_b)\n",
    "\n",
    "    # reshape outputs to match inputs\n",
    "    output_shape = output.get_shape().as_list()\n",
    "    fc = tf.reshape(fc,shape=[output_shape[0],output_shape[1],vocab_size])\n",
    "\n",
    "    # or fc right away\n",
    "    # fc = tf.contrib.layers.fully_connected(output, num_outputs=vocab_size, activation_fn=None)\n",
    "    \n",
    "    return fc, final_state\n",
    "\n",
    "\n",
    "\"\"\"\n",
    "DON'T MODIFY ANYTHING IN THIS CELL THAT IS BELOW THIS LINE\n",
    "\"\"\"\n",
    "tests.test_build_nn(build_nn)"
   ]
  },
  {
   "cell_type": "markdown",
   "metadata": {},
   "source": [
    "### Batches\n",
    "Implement `get_batches` to create batches of input and targets using `int_text`.  The batches should be a Numpy array with the shape `(number of batches, 2, batch size, sequence length)`. Each batch contains two elements:\n",
    "- The first element is a single batch of **input** with the shape `[batch size, sequence length]`\n",
    "- The second element is a single batch of **targets** with the shape `[batch size, sequence length]`\n",
    "\n",
    "If you can't fill the last batch with enough data, drop the last batch.\n",
    "\n",
    "For exmple, `get_batches([1, 2, 3, 4, 5, 6, 7, 8, 9, 10, 11, 12, 13, 14, 15, 16, 17, 18, 19, 20], 3, 2)` would return a Numpy array of the following:\n",
    "```\n",
    "[\n",
    "  # First Batch\n",
    "  [\n",
    "    # Batch of Input\n",
    "    [[ 1  2], [ 7  8], [13 14]]\n",
    "    # Batch of targets\n",
    "    [[ 2  3], [ 8  9], [14 15]]\n",
    "  ]\n",
    "\n",
    "  # Second Batch\n",
    "  [\n",
    "    # Batch of Input\n",
    "    [[ 3  4], [ 9 10], [15 16]]\n",
    "    # Batch of targets\n",
    "    [[ 4  5], [10 11], [16 17]]\n",
    "  ]\n",
    "\n",
    "  # Third Batch\n",
    "  [\n",
    "    # Batch of Input\n",
    "    [[ 5  6], [11 12], [17 18]]\n",
    "    # Batch of targets\n",
    "    [[ 6  7], [12 13], [18  1]]\n",
    "  ]\n",
    "]\n",
    "```\n",
    "\n",
    "Notice that the last target value in the last batch is the first input value of the first batch. In this case, `1`. This is a common technique used when creating sequence batches, although it is rather unintuitive."
   ]
  },
  {
   "cell_type": "code",
   "execution_count": 281,
   "metadata": {},
   "outputs": [
    {
     "name": "stdout",
     "output_type": "stream",
     "text": [
      "Tests Passed\n"
     ]
    }
   ],
   "source": [
    "def get_batches(int_text, batch_size, seq_length):\n",
    "    \"\"\"\n",
    "    Return batches of input and target\n",
    "    :param int_text: Text with the words replaced by their ids\n",
    "    :param batch_size: The size of batch\n",
    "    :param seq_length: The length of sequence\n",
    "    :return: Batches as a Numpy array\n",
    "    \"\"\"    \n",
    "    elements_in_batch = batch_size*seq_length\n",
    "    \n",
    "    remainder = len(int_text)%elements_in_batch\n",
    "    if remainder != 0:\n",
    "        int_text = int_text[:-remainder]\n",
    "    \n",
    "    batches = len(int_text)//(batch_size*seq_length)\n",
    "          \n",
    "    # split into sequences\n",
    "    int_text_reshaped = np.array(int_text).reshape(batch_size,-1)\n",
    "    \n",
    "    out = []\n",
    "    # loop through batches\n",
    "    # by default (since we reshaped properly), this will loop batches times.\n",
    "    for n in range(0, int_text_reshaped.shape[1] , seq_length):\n",
    "        x = int_text_reshaped[:,n:n+seq_length] \n",
    "        y = int_text_reshaped[:,n+1:n+seq_length+1]\n",
    "        # if final, concat with y\n",
    "        if n == int_text_reshaped.shape[1] - seq_length:\n",
    "            _y = np.concatenate((int_text_reshaped[1:,0], [int_text_reshaped[0,0]]),axis=0)\n",
    "            y = np.c_[y, _y] \n",
    "        out.append([x,y])\n",
    "    return np.array(out)\n",
    "\n",
    "\"\"\"\n",
    "DON'T MODIFY ANYTHING IN THIS CELL THAT IS BELOW THIS LINE\n",
    "\"\"\"\n",
    "tests.test_get_batches(get_batches)"
   ]
  },
  {
   "cell_type": "markdown",
   "metadata": {},
   "source": [
    "## Neural Network Training\n",
    "### Hyperparameters\n",
    "Tune the following parameters:\n",
    "\n",
    "- Set `num_epochs` to the number of epochs.\n",
    "- Set `batch_size` to the batch size.\n",
    "- Set `rnn_size` to the size of the RNNs.\n",
    "- Set `embed_dim` to the size of the embedding.\n",
    "- Set `seq_length` to the length of sequence.\n",
    "- Set `learning_rate` to the learning rate.\n",
    "- Set `show_every_n_batches` to the number of batches the neural network should print progress."
   ]
  },
  {
   "cell_type": "code",
   "execution_count": 282,
   "metadata": {
    "collapsed": true
   },
   "outputs": [],
   "source": [
    "# Number of Epochs\n",
    "num_epochs = 200\n",
    "# Batch Size\n",
    "batch_size = 100\n",
    "# RNN Size\n",
    "rnn_size = 256\n",
    "# Embedding Dimension Size\n",
    "embed_dim = 300\n",
    "# Sequence Length\n",
    "seq_length = 50\n",
    "# Learning Rate\n",
    "learning_rate = 0.01\n",
    "# Show stats for every n number of batches\n",
    "show_every_n_batches = 20\n",
    "\n",
    "\"\"\"\n",
    "DON'T MODIFY ANYTHING IN THIS CELL THAT IS BELOW THIS LINE\n",
    "\"\"\"\n",
    "save_dir = './save'"
   ]
  },
  {
   "cell_type": "markdown",
   "metadata": {},
   "source": [
    "### Build the Graph\n",
    "Build the graph using the neural network you implemented."
   ]
  },
  {
   "cell_type": "code",
   "execution_count": 292,
   "metadata": {},
   "outputs": [
    {
     "name": "stdout",
     "output_type": "stream",
     "text": [
      "(?, ?, 300)\n",
      "(?, ?, 256)\n",
      "<bound method Tensor.get_shape of <tf.Tensor 'fully_connected/BiasAdd:0' shape=(?, ?, 6779) dtype=float32>>\n"
     ]
    }
   ],
   "source": [
    "\"\"\"\n",
    "DON'T MODIFY ANYTHING IN THIS CELL\n",
    "\"\"\"\n",
    "from tensorflow.contrib import seq2seq\n",
    "\n",
    "train_graph = tf.Graph()\n",
    "with train_graph.as_default():\n",
    "    vocab_size = len(int_to_vocab)\n",
    "    input_text, targets, lr = get_inputs()\n",
    "    input_data_shape = tf.shape(input_text)\n",
    "    cell, initial_state = get_init_cell(input_data_shape[0], rnn_size)\n",
    "    logits, final_state = build_nn(cell, rnn_size, input_text, vocab_size, embed_dim)\n",
    "\n",
    "    # Probabilities for generating words\n",
    "    probs = tf.nn.softmax(logits, name='probs')\n",
    "\n",
    "    # Loss function\n",
    "    cost = seq2seq.sequence_loss(\n",
    "        logits,\n",
    "        targets,\n",
    "        tf.ones([input_data_shape[0], input_data_shape[1]]))\n",
    "\n",
    "    # Optimizer\n",
    "    optimizer = tf.train.AdamOptimizer(lr)\n",
    "\n",
    "    # Gradient Clipping\n",
    "    gradients = optimizer.compute_gradients(cost)\n",
    "    capped_gradients = [(tf.clip_by_value(grad, -1., 1.), var) for grad, var in gradients if grad is not None]\n",
    "    train_op = optimizer.apply_gradients(capped_gradients)"
   ]
  },
  {
   "cell_type": "markdown",
   "metadata": {},
   "source": [
    "## Train\n",
    "Train the neural network on the preprocessed data.  If you have a hard time getting a good loss, check the [forums](https://discussions.udacity.com/) to see if anyone is having the same problem."
   ]
  },
  {
   "cell_type": "code",
   "execution_count": 296,
   "metadata": {},
   "outputs": [
    {
     "name": "stdout",
     "output_type": "stream",
     "text": [
      "Epoch   0 Batch    0/13   train_loss = 8.823\n",
      "Epoch   1 Batch    7/13   train_loss = 6.106\n",
      "Epoch   3 Batch    1/13   train_loss = 5.994\n",
      "Epoch   4 Batch    8/13   train_loss = 6.060\n",
      "Epoch   6 Batch    2/13   train_loss = 6.077\n",
      "Epoch   7 Batch    9/13   train_loss = 5.985\n",
      "Epoch   9 Batch    3/13   train_loss = 5.747\n",
      "Epoch  10 Batch   10/13   train_loss = 5.601\n",
      "Epoch  12 Batch    4/13   train_loss = 5.230\n",
      "Epoch  13 Batch   11/13   train_loss = 4.911\n",
      "Epoch  15 Batch    5/13   train_loss = 4.681\n",
      "Epoch  16 Batch   12/13   train_loss = 4.537\n",
      "Epoch  18 Batch    6/13   train_loss = 4.269\n",
      "Epoch  20 Batch    0/13   train_loss = 4.128\n",
      "Epoch  21 Batch    7/13   train_loss = 3.935\n",
      "Epoch  23 Batch    1/13   train_loss = 3.794\n",
      "Epoch  24 Batch    8/13   train_loss = 3.557\n",
      "Epoch  26 Batch    2/13   train_loss = 3.452\n",
      "Epoch  27 Batch    9/13   train_loss = 3.205\n",
      "Epoch  29 Batch    3/13   train_loss = 3.025\n",
      "Epoch  30 Batch   10/13   train_loss = 2.890\n",
      "Epoch  32 Batch    4/13   train_loss = 2.792\n",
      "Epoch  33 Batch   11/13   train_loss = 2.607\n",
      "Epoch  35 Batch    5/13   train_loss = 2.385\n",
      "Epoch  36 Batch   12/13   train_loss = 2.215\n",
      "Epoch  38 Batch    6/13   train_loss = 2.007\n",
      "Epoch  40 Batch    0/13   train_loss = 1.838\n",
      "Epoch  41 Batch    7/13   train_loss = 1.756\n",
      "Epoch  43 Batch    1/13   train_loss = 1.689\n",
      "Epoch  44 Batch    8/13   train_loss = 1.582\n",
      "Epoch  46 Batch    2/13   train_loss = 1.454\n",
      "Epoch  47 Batch    9/13   train_loss = 1.329\n",
      "Epoch  49 Batch    3/13   train_loss = 1.271\n",
      "Epoch  50 Batch   10/13   train_loss = 1.284\n",
      "Epoch  52 Batch    4/13   train_loss = 1.450\n",
      "Epoch  53 Batch   11/13   train_loss = 1.387\n",
      "Epoch  55 Batch    5/13   train_loss = 1.179\n",
      "Epoch  56 Batch   12/13   train_loss = 0.978\n",
      "Epoch  58 Batch    6/13   train_loss = 0.842\n",
      "Epoch  60 Batch    0/13   train_loss = 0.801\n",
      "Epoch  61 Batch    7/13   train_loss = 0.751\n",
      "Epoch  63 Batch    1/13   train_loss = 0.710\n",
      "Epoch  64 Batch    8/13   train_loss = 0.687\n",
      "Epoch  66 Batch    2/13   train_loss = 0.653\n",
      "Epoch  67 Batch    9/13   train_loss = 0.589\n",
      "Epoch  69 Batch    3/13   train_loss = 0.591\n",
      "Epoch  70 Batch   10/13   train_loss = 0.519\n",
      "Epoch  72 Batch    4/13   train_loss = 0.496\n",
      "Epoch  73 Batch   11/13   train_loss = 0.429\n",
      "Epoch  75 Batch    5/13   train_loss = 0.370\n",
      "Epoch  76 Batch   12/13   train_loss = 0.318\n",
      "Epoch  78 Batch    6/13   train_loss = 0.293\n",
      "Epoch  80 Batch    0/13   train_loss = 0.283\n",
      "Epoch  81 Batch    7/13   train_loss = 0.268\n",
      "Epoch  83 Batch    1/13   train_loss = 0.274\n",
      "Epoch  84 Batch    8/13   train_loss = 0.263\n",
      "Epoch  86 Batch    2/13   train_loss = 0.234\n",
      "Epoch  87 Batch    9/13   train_loss = 0.203\n",
      "Epoch  89 Batch    3/13   train_loss = 0.234\n",
      "Epoch  90 Batch   10/13   train_loss = 0.233\n",
      "Epoch  92 Batch    4/13   train_loss = 0.259\n",
      "Epoch  93 Batch   11/13   train_loss = 0.281\n",
      "Epoch  95 Batch    5/13   train_loss = 0.336\n",
      "Epoch  96 Batch   12/13   train_loss = 0.397\n",
      "Epoch  98 Batch    6/13   train_loss = 0.488\n",
      "Epoch 100 Batch    0/13   train_loss = 0.599\n",
      "Epoch 101 Batch    7/13   train_loss = 0.636\n",
      "Epoch 103 Batch    1/13   train_loss = 0.541\n",
      "Epoch 104 Batch    8/13   train_loss = 0.498\n",
      "Epoch 106 Batch    2/13   train_loss = 0.401\n",
      "Epoch 107 Batch    9/13   train_loss = 0.287\n",
      "Epoch 109 Batch    3/13   train_loss = 0.221\n",
      "Epoch 110 Batch   10/13   train_loss = 0.171\n",
      "Epoch 112 Batch    4/13   train_loss = 0.163\n",
      "Epoch 113 Batch   11/13   train_loss = 0.135\n",
      "Epoch 115 Batch    5/13   train_loss = 0.128\n",
      "Epoch 116 Batch   12/13   train_loss = 0.113\n",
      "Epoch 118 Batch    6/13   train_loss = 0.188\n",
      "Epoch 120 Batch    0/13   train_loss = 0.111\n",
      "Epoch 121 Batch    7/13   train_loss = 0.097\n",
      "Epoch 123 Batch    1/13   train_loss = 0.093\n",
      "Epoch 124 Batch    8/13   train_loss = 0.082\n",
      "Epoch 126 Batch    2/13   train_loss = 0.080\n",
      "Epoch 127 Batch    9/13   train_loss = 0.063\n",
      "Epoch 129 Batch    3/13   train_loss = 0.072\n",
      "Epoch 130 Batch   10/13   train_loss = 0.063\n",
      "Epoch 132 Batch    4/13   train_loss = 0.071\n",
      "Epoch 133 Batch   11/13   train_loss = 0.068\n",
      "Epoch 135 Batch    5/13   train_loss = 0.060\n",
      "Epoch 136 Batch   12/13   train_loss = 0.058\n",
      "Epoch 138 Batch    6/13   train_loss = 0.060\n",
      "Epoch 140 Batch    0/13   train_loss = 0.058\n",
      "Epoch 141 Batch    7/13   train_loss = 0.057\n",
      "Epoch 143 Batch    1/13   train_loss = 0.058\n",
      "Epoch 144 Batch    8/13   train_loss = 0.060\n",
      "Epoch 146 Batch    2/13   train_loss = 0.061\n",
      "Epoch 147 Batch    9/13   train_loss = 0.051\n",
      "Epoch 149 Batch    3/13   train_loss = 0.059\n",
      "Epoch 150 Batch   10/13   train_loss = 0.051\n",
      "Epoch 152 Batch    4/13   train_loss = 0.060\n",
      "Epoch 153 Batch   11/13   train_loss = 0.057\n",
      "Epoch 155 Batch    5/13   train_loss = 0.050\n",
      "Epoch 156 Batch   12/13   train_loss = 0.050\n",
      "Epoch 158 Batch    6/13   train_loss = 0.052\n",
      "Epoch 160 Batch    0/13   train_loss = 0.052\n",
      "Epoch 161 Batch    7/13   train_loss = 0.051\n",
      "Epoch 163 Batch    1/13   train_loss = 0.053\n",
      "Epoch 164 Batch    8/13   train_loss = 0.054\n",
      "Epoch 166 Batch    2/13   train_loss = 0.055\n",
      "Epoch 167 Batch    9/13   train_loss = 0.047\n",
      "Epoch 169 Batch    3/13   train_loss = 0.054\n",
      "Epoch 170 Batch   10/13   train_loss = 0.046\n",
      "Epoch 172 Batch    4/13   train_loss = 0.055\n",
      "Epoch 173 Batch   11/13   train_loss = 0.052\n",
      "Epoch 175 Batch    5/13   train_loss = 0.046\n",
      "Epoch 176 Batch   12/13   train_loss = 0.047\n",
      "Epoch 178 Batch    6/13   train_loss = 0.049\n",
      "Epoch 180 Batch    0/13   train_loss = 0.050\n",
      "Epoch 181 Batch    7/13   train_loss = 0.048\n",
      "Epoch 183 Batch    1/13   train_loss = 0.050\n",
      "Epoch 184 Batch    8/13   train_loss = 0.051\n",
      "Epoch 186 Batch    2/13   train_loss = 0.051\n",
      "Epoch 187 Batch    9/13   train_loss = 0.045\n",
      "Epoch 189 Batch    3/13   train_loss = 0.052\n",
      "Epoch 190 Batch   10/13   train_loss = 0.044\n",
      "Epoch 192 Batch    4/13   train_loss = 0.053\n",
      "Epoch 193 Batch   11/13   train_loss = 0.050\n",
      "Epoch 195 Batch    5/13   train_loss = 0.044\n",
      "Epoch 196 Batch   12/13   train_loss = 0.046\n",
      "Epoch 198 Batch    6/13   train_loss = 0.047\n",
      "Model Trained and Saved\n"
     ]
    }
   ],
   "source": [
    "\"\"\"\n",
    "DON'T MODIFY ANYTHING IN THIS CELL\n",
    "\"\"\"\n",
    "batches = get_batches(int_text, batch_size, seq_length)\n",
    "\n",
    "with tf.Session(graph=train_graph) as sess:\n",
    "    sess.run(tf.global_variables_initializer())\n",
    "\n",
    "    for epoch_i in range(num_epochs):\n",
    "        state = sess.run(initial_state, {input_text: batches[0][0]})\n",
    "\n",
    "        for batch_i, (x, y) in enumerate(batches):\n",
    "            feed = {\n",
    "                input_text: x,\n",
    "                targets: y,\n",
    "                initial_state: state,\n",
    "                lr: learning_rate}\n",
    "            train_loss, state, _ = sess.run([cost, final_state, train_op], feed)\n",
    "\n",
    "            # Show every <show_every_n_batches> batches\n",
    "            if (epoch_i * len(batches) + batch_i) % show_every_n_batches == 0:\n",
    "                print('Epoch {:>3} Batch {:>4}/{}   train_loss = {:.3f}'.format(\n",
    "                    epoch_i,\n",
    "                    batch_i,\n",
    "                    len(batches),\n",
    "                    train_loss))\n",
    "\n",
    "    # Save Model\n",
    "    saver = tf.train.Saver()\n",
    "    saver.save(sess, save_dir)\n",
    "    print('Model Trained and Saved')"
   ]
  },
  {
   "cell_type": "markdown",
   "metadata": {},
   "source": [
    "## Save Parameters\n",
    "Save `seq_length` and `save_dir` for generating a new TV script."
   ]
  },
  {
   "cell_type": "code",
   "execution_count": 297,
   "metadata": {
    "collapsed": true
   },
   "outputs": [],
   "source": [
    "\"\"\"\n",
    "DON'T MODIFY ANYTHING IN THIS CELL\n",
    "\"\"\"\n",
    "# Save parameters for checkpoint\n",
    "helper.save_params((seq_length, save_dir))"
   ]
  },
  {
   "cell_type": "markdown",
   "metadata": {},
   "source": [
    "# Checkpoint"
   ]
  },
  {
   "cell_type": "code",
   "execution_count": 298,
   "metadata": {
    "collapsed": true
   },
   "outputs": [],
   "source": [
    "\"\"\"\n",
    "DON'T MODIFY ANYTHING IN THIS CELL\n",
    "\"\"\"\n",
    "import tensorflow as tf\n",
    "import numpy as np\n",
    "import helper\n",
    "import problem_unittests as tests\n",
    "\n",
    "_, vocab_to_int, int_to_vocab, token_dict = helper.load_preprocess()\n",
    "seq_length, load_dir = helper.load_params()"
   ]
  },
  {
   "cell_type": "markdown",
   "metadata": {},
   "source": [
    "## Implement Generate Functions\n",
    "### Get Tensors\n",
    "Get tensors from `loaded_graph` using the function [`get_tensor_by_name()`](https://www.tensorflow.org/api_docs/python/tf/Graph#get_tensor_by_name).  Get the tensors using the following names:\n",
    "- \"input:0\"\n",
    "- \"initial_state:0\"\n",
    "- \"final_state:0\"\n",
    "- \"probs:0\"\n",
    "\n",
    "Return the tensors in the following tuple `(InputTensor, InitialStateTensor, FinalStateTensor, ProbsTensor)` "
   ]
  },
  {
   "cell_type": "code",
   "execution_count": 300,
   "metadata": {},
   "outputs": [
    {
     "name": "stdout",
     "output_type": "stream",
     "text": [
      "Tests Passed\n"
     ]
    }
   ],
   "source": [
    "def get_tensors(loaded_graph):\n",
    "    \"\"\"\n",
    "    Get input, initial state, final state, and probabilities tensor from <loaded_graph>\n",
    "    :param loaded_graph: TensorFlow graph loaded from file\n",
    "    :return: Tuple (InputTensor, InitialStateTensor, FinalStateTensor, ProbsTensor)\n",
    "    \"\"\"\n",
    "    # TODO: Implement Function\n",
    "    _input = loaded_graph.get_tensor_by_name(\"input:0\")\n",
    "    _initial_state = loaded_graph.get_tensor_by_name(\"initial_state:0\")\n",
    "    _final_state = loaded_graph.get_tensor_by_name(\"final_state:0\")\n",
    "    _probs = loaded_graph.get_tensor_by_name(\"probs:0\")\n",
    "    return _input, _initial_state, _final_state, _probs\n",
    "\n",
    "\n",
    "\"\"\"\n",
    "DON'T MODIFY ANYTHING IN THIS CELL THAT IS BELOW THIS LINE\n",
    "\"\"\"\n",
    "tests.test_get_tensors(get_tensors)"
   ]
  },
  {
   "cell_type": "markdown",
   "metadata": {},
   "source": [
    "### Choose Word\n",
    "Implement the `pick_word()` function to select the next word using `probabilities`."
   ]
  },
  {
   "cell_type": "code",
   "execution_count": 314,
   "metadata": {},
   "outputs": [
    {
     "name": "stdout",
     "output_type": "stream",
     "text": [
      "Tests Passed\n"
     ]
    }
   ],
   "source": [
    "def pick_word(probabilities, int_to_vocab):\n",
    "    \"\"\"\n",
    "    Pick the next word in the generated text\n",
    "    :param probabilities: Probabilites of the next word\n",
    "    :param int_to_vocab: Dictionary of word ids as the keys and words as the values\n",
    "    :return: String of the predicted word\n",
    "    \"\"\"\n",
    "    # TODO: Implement Function\n",
    "    max_idx = np.argmax(probabilities)\n",
    "    return int_to_vocab[max_idx]\n",
    "\n",
    "\n",
    "\"\"\"\n",
    "DON'T MODIFY ANYTHING IN THIS CELL THAT IS BELOW THIS LINE\n",
    "\"\"\"\n",
    "tests.test_pick_word(pick_word)"
   ]
  },
  {
   "cell_type": "markdown",
   "metadata": {},
   "source": [
    "## Generate TV Script\n",
    "This will generate the TV script for you.  Set `gen_length` to the length of TV script you want to generate."
   ]
  },
  {
   "cell_type": "code",
   "execution_count": 315,
   "metadata": {},
   "outputs": [
    {
     "name": "stdout",
     "output_type": "stream",
     "text": [
      "INFO:tensorflow:Restoring parameters from ./save\n",
      "moe_szyslak: oh, the heat's been on since them bush girls were in here.\n",
      "homer_simpson: all right, all right.(dejected) come on, bart.\n",
      "bart_simpson: i'm cold and scared.\n",
      "homer_simpson: that's my little slugger.\n",
      "bart_simpson: c'mon, dad.\n",
      "moe_szyslak: you guys mind if i just ain't no would take you your cash man. i want to play.\n",
      "\n",
      "\n",
      "homer_simpson:(pleasant) it's okay, i understand.\n",
      "lenny_leonard:(to moe) oh,!.. hang on, let me check.\n",
      "moe_szyslak: i think it is here to hear about your dad.\n",
      "marge_simpson: why can'tcha?\n",
      "moe_szyslak: i had a thing.\n",
      "\n",
      "\n",
      "moe_szyslak:(shocked) are you kiddin' me? push this button here?\n",
      "moe_szyslak:(uneasy) oh, i can't wait till you guys get to uh...\n",
      "thought_bubble_lenny: yep, that's what we'd do about your ma, and,\" the love of your brilliant new star, the best label paste.\n",
      "homer_simpson: i guess i'll let me just\n"
     ]
    }
   ],
   "source": [
    "gen_length = 200\n",
    "# homer_simpson, moe_szyslak, or Barney_Gumble\n",
    "prime_word = 'moe_szyslak'\n",
    "\n",
    "\"\"\"\n",
    "DON'T MODIFY ANYTHING IN THIS CELL THAT IS BELOW THIS LINE\n",
    "\"\"\"\n",
    "loaded_graph = tf.Graph()\n",
    "with tf.Session(graph=loaded_graph) as sess:\n",
    "    # Load saved model\n",
    "    loader = tf.train.import_meta_graph(load_dir + '.meta')\n",
    "    loader.restore(sess, load_dir)\n",
    "\n",
    "    # Get Tensors from loaded model\n",
    "    input_text, initial_state, final_state, probs = get_tensors(loaded_graph)\n",
    "\n",
    "    # Sentences generation setup\n",
    "    gen_sentences = [prime_word + ':']\n",
    "    prev_state = sess.run(initial_state, {input_text: np.array([[1]])})\n",
    "\n",
    "    # Generate sentences\n",
    "    for n in range(gen_length):\n",
    "        # Dynamic Input\n",
    "        dyn_input = [[vocab_to_int[word] for word in gen_sentences[-seq_length:]]]\n",
    "        dyn_seq_length = len(dyn_input[0])\n",
    "\n",
    "        # Get Prediction\n",
    "        probabilities, prev_state = sess.run(\n",
    "            [probs, final_state],\n",
    "            {input_text: dyn_input, initial_state: prev_state})\n",
    "        \n",
    "        pred_word = pick_word(probabilities[dyn_seq_length-1], int_to_vocab)\n",
    "\n",
    "        gen_sentences.append(pred_word)\n",
    "    \n",
    "    # Remove tokens\n",
    "    tv_script = ' '.join(gen_sentences)\n",
    "    for key, token in token_dict.items():\n",
    "        ending = ' ' if key in ['\\n', '(', '\"'] else ''\n",
    "        tv_script = tv_script.replace(' ' + token.lower(), key)\n",
    "    tv_script = tv_script.replace('\\n ', '\\n')\n",
    "    tv_script = tv_script.replace('( ', '(')\n",
    "        \n",
    "    print(tv_script)"
   ]
  },
  {
   "cell_type": "markdown",
   "metadata": {},
   "source": [
    "# The TV Script is Nonsensical\n",
    "It's ok if the TV script doesn't make any sense.  We trained on less than a megabyte of text.  In order to get good results, you'll have to use a smaller vocabulary or get more data.  Luckly there's more data!  As we mentioned in the begging of this project, this is a subset of [another dataset](https://www.kaggle.com/wcukierski/the-simpsons-by-the-data).  We didn't have you train on all the data, because that would take too long.  However, you are free to train your neural network on all the data.  After you complete the project, of course.\n",
    "# Submitting This Project\n",
    "When submitting this project, make sure to run all the cells before saving the notebook. Save the notebook file as \"dlnd_tv_script_generation.ipynb\" and save it as a HTML file under \"File\" -> \"Download as\". Include the \"helper.py\" and \"problem_unittests.py\" files in your submission."
   ]
  }
 ],
 "metadata": {
  "kernelspec": {
   "display_name": "venv",
   "language": "python",
   "name": "venv"
  },
  "language_info": {
   "codemirror_mode": {
    "name": "ipython",
    "version": 3
   },
   "file_extension": ".py",
   "mimetype": "text/x-python",
   "name": "python",
   "nbconvert_exporter": "python",
   "pygments_lexer": "ipython3",
   "version": "3.5.2"
  },
  "widgets": {
   "state": {},
   "version": "1.1.2"
  }
 },
 "nbformat": 4,
 "nbformat_minor": 1
}
